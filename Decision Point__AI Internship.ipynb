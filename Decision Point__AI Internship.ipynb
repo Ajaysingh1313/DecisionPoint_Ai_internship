{
 "cells": [
  {
   "cell_type": "code",
   "execution_count": 1,
   "id": "36d29206",
   "metadata": {},
   "outputs": [],
   "source": [
    "# Importing the necessary libraries\n",
    "import pandas as pd"
   ]
  },
  {
   "cell_type": "code",
   "execution_count": 2,
   "id": "a87c1e86",
   "metadata": {},
   "outputs": [],
   "source": [
    "\n",
    "# Define the dataset\n",
    "data = {\n",
    "    'Customer_name': ['Oliver', 'Oliver', 'Oliver', 'Ethan', 'Ethan', 'Abigail', 'Abigail', 'Abigail', 'Abigail'],\n",
    "    'Customer_id': [213, 512, 342, 413, 414, 326, 327, 348, 544],\n",
    "    'New_Customer_id': [512, 342, 513, 414, 416, 327, 348, 544, 566],\n",
    "    'updated_date': ['2018-06-12', '2018-09-01', '2019-03-06', '2019-05-04', '2019-09-02', '2017-02-13', '2018-05-23', '2019-09-27', '2020-04-09']\n",
    "}\n",
    "\n",
    "# Create a DataFrame from the dataset\n",
    "df = pd.DataFrame(data)\n",
    "\n"
   ]
  },
  {
   "cell_type": "code",
   "execution_count": 3,
   "id": "e1079246",
   "metadata": {},
   "outputs": [
    {
     "data": {
      "text/html": [
       "<div>\n",
       "<style scoped>\n",
       "    .dataframe tbody tr th:only-of-type {\n",
       "        vertical-align: middle;\n",
       "    }\n",
       "\n",
       "    .dataframe tbody tr th {\n",
       "        vertical-align: top;\n",
       "    }\n",
       "\n",
       "    .dataframe thead th {\n",
       "        text-align: right;\n",
       "    }\n",
       "</style>\n",
       "<table border=\"1\" class=\"dataframe\">\n",
       "  <thead>\n",
       "    <tr style=\"text-align: right;\">\n",
       "      <th></th>\n",
       "      <th>Customer_name</th>\n",
       "      <th>Customer_id</th>\n",
       "      <th>New_Customer_id</th>\n",
       "      <th>updated_date</th>\n",
       "    </tr>\n",
       "  </thead>\n",
       "  <tbody>\n",
       "    <tr>\n",
       "      <th>0</th>\n",
       "      <td>Oliver</td>\n",
       "      <td>213</td>\n",
       "      <td>512</td>\n",
       "      <td>2018-06-12</td>\n",
       "    </tr>\n",
       "    <tr>\n",
       "      <th>1</th>\n",
       "      <td>Oliver</td>\n",
       "      <td>512</td>\n",
       "      <td>342</td>\n",
       "      <td>2018-09-01</td>\n",
       "    </tr>\n",
       "    <tr>\n",
       "      <th>2</th>\n",
       "      <td>Oliver</td>\n",
       "      <td>342</td>\n",
       "      <td>513</td>\n",
       "      <td>2019-03-06</td>\n",
       "    </tr>\n",
       "    <tr>\n",
       "      <th>3</th>\n",
       "      <td>Ethan</td>\n",
       "      <td>413</td>\n",
       "      <td>414</td>\n",
       "      <td>2019-05-04</td>\n",
       "    </tr>\n",
       "    <tr>\n",
       "      <th>4</th>\n",
       "      <td>Ethan</td>\n",
       "      <td>414</td>\n",
       "      <td>416</td>\n",
       "      <td>2019-09-02</td>\n",
       "    </tr>\n",
       "    <tr>\n",
       "      <th>5</th>\n",
       "      <td>Abigail</td>\n",
       "      <td>326</td>\n",
       "      <td>327</td>\n",
       "      <td>2017-02-13</td>\n",
       "    </tr>\n",
       "    <tr>\n",
       "      <th>6</th>\n",
       "      <td>Abigail</td>\n",
       "      <td>327</td>\n",
       "      <td>348</td>\n",
       "      <td>2018-05-23</td>\n",
       "    </tr>\n",
       "    <tr>\n",
       "      <th>7</th>\n",
       "      <td>Abigail</td>\n",
       "      <td>348</td>\n",
       "      <td>544</td>\n",
       "      <td>2019-09-27</td>\n",
       "    </tr>\n",
       "    <tr>\n",
       "      <th>8</th>\n",
       "      <td>Abigail</td>\n",
       "      <td>544</td>\n",
       "      <td>566</td>\n",
       "      <td>2020-04-09</td>\n",
       "    </tr>\n",
       "  </tbody>\n",
       "</table>\n",
       "</div>"
      ],
      "text/plain": [
       "  Customer_name  Customer_id  New_Customer_id updated_date\n",
       "0        Oliver          213              512   2018-06-12\n",
       "1        Oliver          512              342   2018-09-01\n",
       "2        Oliver          342              513   2019-03-06\n",
       "3         Ethan          413              414   2019-05-04\n",
       "4         Ethan          414              416   2019-09-02\n",
       "5       Abigail          326              327   2017-02-13\n",
       "6       Abigail          327              348   2018-05-23\n",
       "7       Abigail          348              544   2019-09-27\n",
       "8       Abigail          544              566   2020-04-09"
      ]
     },
     "execution_count": 3,
     "metadata": {},
     "output_type": "execute_result"
    }
   ],
   "source": [
    "# Having a look on data \n",
    "df.head(25)"
   ]
  },
  {
   "cell_type": "code",
   "execution_count": 4,
   "id": "f91b7bee",
   "metadata": {},
   "outputs": [
    {
     "data": {
      "text/plain": [
       "Customer_name      object\n",
       "Customer_id         int64\n",
       "New_Customer_id     int64\n",
       "updated_date       object\n",
       "dtype: object"
      ]
     },
     "execution_count": 4,
     "metadata": {},
     "output_type": "execute_result"
    }
   ],
   "source": [
    "# Checking the data types of each column\n",
    "df.dtypes"
   ]
  },
  {
   "cell_type": "markdown",
   "id": "12b7b59f",
   "metadata": {},
   "source": [
    "#### Here we need to extract the latest  customer details for this we have to use date column but here date column data type is object we will convert it to data type date  which will help us to extract the latest customer details as per date"
   ]
  },
  {
   "cell_type": "code",
   "execution_count": 5,
   "id": "a7d660ac",
   "metadata": {},
   "outputs": [],
   "source": [
    "# Convert 'updated_date' column to datetime\n",
    "df['updated_date'] = pd.to_datetime(df['updated_date'])"
   ]
  },
  {
   "cell_type": "code",
   "execution_count": 6,
   "id": "4c1f0317",
   "metadata": {},
   "outputs": [
    {
     "data": {
      "text/plain": [
       "Customer_name              object\n",
       "Customer_id                 int64\n",
       "New_Customer_id             int64\n",
       "updated_date       datetime64[ns]\n",
       "dtype: object"
      ]
     },
     "execution_count": 6,
     "metadata": {},
     "output_type": "execute_result"
    }
   ],
   "source": [
    "# Checking the data types again\n",
    "df.dtypes"
   ]
  },
  {
   "cell_type": "code",
   "execution_count": 16,
   "id": "58fad6f4",
   "metadata": {},
   "outputs": [],
   "source": [
    "# Getting the rows with the latest details for each customer\n",
    "df_latest = df.loc[df.groupby('Customer_name')['updated_date'].idxmax()]"
   ]
  },
  {
   "cell_type": "code",
   "execution_count": 15,
   "id": "27bc80f4",
   "metadata": {},
   "outputs": [
    {
     "data": {
      "text/html": [
       "<div>\n",
       "<style scoped>\n",
       "    .dataframe tbody tr th:only-of-type {\n",
       "        vertical-align: middle;\n",
       "    }\n",
       "\n",
       "    .dataframe tbody tr th {\n",
       "        vertical-align: top;\n",
       "    }\n",
       "\n",
       "    .dataframe thead th {\n",
       "        text-align: right;\n",
       "    }\n",
       "</style>\n",
       "<table border=\"1\" class=\"dataframe\">\n",
       "  <thead>\n",
       "    <tr style=\"text-align: right;\">\n",
       "      <th></th>\n",
       "      <th>Customer_name</th>\n",
       "      <th>Customer_id</th>\n",
       "      <th>New_Customer_id</th>\n",
       "      <th>updated_date</th>\n",
       "    </tr>\n",
       "  </thead>\n",
       "  <tbody>\n",
       "    <tr>\n",
       "      <th>8</th>\n",
       "      <td>Abigail</td>\n",
       "      <td>544</td>\n",
       "      <td>566</td>\n",
       "      <td>2020-04-09</td>\n",
       "    </tr>\n",
       "    <tr>\n",
       "      <th>4</th>\n",
       "      <td>Ethan</td>\n",
       "      <td>414</td>\n",
       "      <td>416</td>\n",
       "      <td>2019-09-02</td>\n",
       "    </tr>\n",
       "    <tr>\n",
       "      <th>2</th>\n",
       "      <td>Oliver</td>\n",
       "      <td>342</td>\n",
       "      <td>513</td>\n",
       "      <td>2019-03-06</td>\n",
       "    </tr>\n",
       "  </tbody>\n",
       "</table>\n",
       "</div>"
      ],
      "text/plain": [
       "  Customer_name  Customer_id  New_Customer_id updated_date\n",
       "8       Abigail          544              566   2020-04-09\n",
       "4         Ethan          414              416   2019-09-02\n",
       "2        Oliver          342              513   2019-03-06"
      ]
     },
     "execution_count": 15,
     "metadata": {},
     "output_type": "execute_result"
    }
   ],
   "source": [
    "df_latest"
   ]
  },
  {
   "cell_type": "markdown",
   "id": "1ca298cd",
   "metadata": {},
   "source": [
    "#### Here we are grouping by customer name we create separate groups based on the unique values in the 'Customer_name' column then using idxmax helps us to find  the index of the row with the maximum 'updated_date' value within that group .\n",
    "\n",
    "\n",
    "#### Using groupby and idxmax in this way does not affect or modify other values in the dataset. It only helps us identify the indices of the rows that have the latest customer details for each customer name. The resulting indices are then used with df.loc to select and extract those specific rows from the original DataFrame."
   ]
  },
  {
   "cell_type": "code",
   "execution_count": null,
   "id": "1c820d42",
   "metadata": {},
   "outputs": [],
   "source": []
  }
 ],
 "metadata": {
  "kernelspec": {
   "display_name": "Python 3 (ipykernel)",
   "language": "python",
   "name": "python3"
  },
  "language_info": {
   "codemirror_mode": {
    "name": "ipython",
    "version": 3
   },
   "file_extension": ".py",
   "mimetype": "text/x-python",
   "name": "python",
   "nbconvert_exporter": "python",
   "pygments_lexer": "ipython3",
   "version": "3.9.12"
  }
 },
 "nbformat": 4,
 "nbformat_minor": 5
}
